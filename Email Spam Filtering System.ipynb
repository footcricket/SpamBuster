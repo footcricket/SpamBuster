{
 "cells": [
  {
   "cell_type": "code",
   "execution_count": 1,
   "id": "30e03d90",
   "metadata": {},
   "outputs": [],
   "source": [
    "import numpy as np\n",
    "import pandas as pd\n",
    "from sklearn.model_selection import train_test_split\n",
    "from sklearn.feature_extraction.text import TfidfVectorizer\n",
    "from sklearn.linear_model import LogisticRegression\n",
    "from sklearn.metrics import accuracy_score"
   ]
  },
  {
   "cell_type": "code",
   "execution_count": 32,
   "id": "bfb6aab0",
   "metadata": {},
   "outputs": [],
   "source": [
    "#Loading the data\n",
    "df = pd.read_csv(\"mail_data.csv\")\n",
    "\n",
    "#Replacing NULL values with NULL string\n",
    "df1 = df.where( (pd.notnull(df) ),'')"
   ]
  },
  {
   "cell_type": "code",
   "execution_count": 33,
   "id": "9b0246b0",
   "metadata": {
    "scrolled": true
   },
   "outputs": [
    {
     "data": {
      "text/html": [
       "<div>\n",
       "<style scoped>\n",
       "    .dataframe tbody tr th:only-of-type {\n",
       "        vertical-align: middle;\n",
       "    }\n",
       "\n",
       "    .dataframe tbody tr th {\n",
       "        vertical-align: top;\n",
       "    }\n",
       "\n",
       "    .dataframe thead th {\n",
       "        text-align: right;\n",
       "    }\n",
       "</style>\n",
       "<table border=\"1\" class=\"dataframe\">\n",
       "  <thead>\n",
       "    <tr style=\"text-align: right;\">\n",
       "      <th></th>\n",
       "      <th>Category</th>\n",
       "      <th>Message</th>\n",
       "    </tr>\n",
       "  </thead>\n",
       "  <tbody>\n",
       "    <tr>\n",
       "      <th>0</th>\n",
       "      <td>ham</td>\n",
       "      <td>Go until jurong point, crazy.. Available only ...</td>\n",
       "    </tr>\n",
       "    <tr>\n",
       "      <th>1</th>\n",
       "      <td>ham</td>\n",
       "      <td>Ok lar... Joking wif u oni...</td>\n",
       "    </tr>\n",
       "    <tr>\n",
       "      <th>2</th>\n",
       "      <td>spam</td>\n",
       "      <td>Free entry in 2 a wkly comp to win FA Cup fina...</td>\n",
       "    </tr>\n",
       "    <tr>\n",
       "      <th>3</th>\n",
       "      <td>ham</td>\n",
       "      <td>U dun say so early hor... U c already then say...</td>\n",
       "    </tr>\n",
       "    <tr>\n",
       "      <th>4</th>\n",
       "      <td>ham</td>\n",
       "      <td>Nah I don't think he goes to usf, he lives aro...</td>\n",
       "    </tr>\n",
       "  </tbody>\n",
       "</table>\n",
       "</div>"
      ],
      "text/plain": [
       "  Category                                            Message\n",
       "0      ham  Go until jurong point, crazy.. Available only ...\n",
       "1      ham                      Ok lar... Joking wif u oni...\n",
       "2     spam  Free entry in 2 a wkly comp to win FA Cup fina...\n",
       "3      ham  U dun say so early hor... U c already then say...\n",
       "4      ham  Nah I don't think he goes to usf, he lives aro..."
      ]
     },
     "execution_count": 33,
     "metadata": {},
     "output_type": "execute_result"
    }
   ],
   "source": [
    "df1.head()"
   ]
  },
  {
   "cell_type": "code",
   "execution_count": 34,
   "id": "028dcfaa",
   "metadata": {},
   "outputs": [
    {
     "data": {
      "text/plain": [
       "(5572, 2)"
      ]
     },
     "execution_count": 34,
     "metadata": {},
     "output_type": "execute_result"
    }
   ],
   "source": [
    "df1.shape"
   ]
  },
  {
   "cell_type": "code",
   "execution_count": 35,
   "id": "a45aae10",
   "metadata": {},
   "outputs": [],
   "source": [
    "#Coding the Ham mails to False and Spam mails to True\n",
    "df1.loc[df1['Category'] == 'spam', 'Category'] = 1\n",
    "df1.loc[df1['Category'] == 'ham', 'Category'] = 0"
   ]
  },
  {
   "cell_type": "code",
   "execution_count": 36,
   "id": "2f904707",
   "metadata": {
    "scrolled": true
   },
   "outputs": [
    {
     "data": {
      "text/html": [
       "<div>\n",
       "<style scoped>\n",
       "    .dataframe tbody tr th:only-of-type {\n",
       "        vertical-align: middle;\n",
       "    }\n",
       "\n",
       "    .dataframe tbody tr th {\n",
       "        vertical-align: top;\n",
       "    }\n",
       "\n",
       "    .dataframe thead th {\n",
       "        text-align: right;\n",
       "    }\n",
       "</style>\n",
       "<table border=\"1\" class=\"dataframe\">\n",
       "  <thead>\n",
       "    <tr style=\"text-align: right;\">\n",
       "      <th></th>\n",
       "      <th>Category</th>\n",
       "      <th>Message</th>\n",
       "    </tr>\n",
       "  </thead>\n",
       "  <tbody>\n",
       "    <tr>\n",
       "      <th>0</th>\n",
       "      <td>0</td>\n",
       "      <td>Go until jurong point, crazy.. Available only ...</td>\n",
       "    </tr>\n",
       "    <tr>\n",
       "      <th>1</th>\n",
       "      <td>0</td>\n",
       "      <td>Ok lar... Joking wif u oni...</td>\n",
       "    </tr>\n",
       "    <tr>\n",
       "      <th>2</th>\n",
       "      <td>1</td>\n",
       "      <td>Free entry in 2 a wkly comp to win FA Cup fina...</td>\n",
       "    </tr>\n",
       "    <tr>\n",
       "      <th>3</th>\n",
       "      <td>0</td>\n",
       "      <td>U dun say so early hor... U c already then say...</td>\n",
       "    </tr>\n",
       "    <tr>\n",
       "      <th>4</th>\n",
       "      <td>0</td>\n",
       "      <td>Nah I don't think he goes to usf, he lives aro...</td>\n",
       "    </tr>\n",
       "  </tbody>\n",
       "</table>\n",
       "</div>"
      ],
      "text/plain": [
       "  Category                                            Message\n",
       "0        0  Go until jurong point, crazy.. Available only ...\n",
       "1        0                      Ok lar... Joking wif u oni...\n",
       "2        1  Free entry in 2 a wkly comp to win FA Cup fina...\n",
       "3        0  U dun say so early hor... U c already then say...\n",
       "4        0  Nah I don't think he goes to usf, he lives aro..."
      ]
     },
     "execution_count": 36,
     "metadata": {},
     "output_type": "execute_result"
    }
   ],
   "source": [
    "df1.head()"
   ]
  },
  {
   "cell_type": "code",
   "execution_count": 37,
   "id": "a2ce4f7a",
   "metadata": {},
   "outputs": [],
   "source": [
    "x = df1['Message']\n",
    "y = df1['Category']"
   ]
  },
  {
   "cell_type": "code",
   "execution_count": 38,
   "id": "39236e4e",
   "metadata": {},
   "outputs": [],
   "source": [
    "#Train and Test data\n",
    "x_train, x_test, y_train, y_test = train_test_split(x, y, test_size=0.25, random_state=1)"
   ]
  },
  {
   "cell_type": "code",
   "execution_count": 39,
   "id": "c239ef70",
   "metadata": {},
   "outputs": [
    {
     "name": "stdout",
     "output_type": "stream",
     "text": [
      "(5572,) (4179,) (1393,)\n"
     ]
    }
   ],
   "source": [
    "print(x.shape, x_train.shape, x_test.shape)"
   ]
  },
  {
   "cell_type": "code",
   "execution_count": 40,
   "id": "dbadaf1d",
   "metadata": {
    "scrolled": true
   },
   "outputs": [
    {
     "name": "stdout",
     "output_type": "stream",
     "text": [
      "710     1\n",
      "3740    0\n",
      "2711    1\n",
      "3155    1\n",
      "3748    0\n",
      "       ..\n",
      "905     0\n",
      "5192    0\n",
      "3980    0\n",
      "235     1\n",
      "5157    0\n",
      "Name: Category, Length: 4179, dtype: object\n"
     ]
    }
   ],
   "source": [
    "print(y_train)"
   ]
  },
  {
   "cell_type": "code",
   "execution_count": 41,
   "id": "7f81946d",
   "metadata": {},
   "outputs": [],
   "source": [
    "#Transforming text to readable data for Logistic Regression Model\n",
    "feature_extraction = TfidfVectorizer(min_df=1, stop_words='english', lowercase='True')\n",
    "\n",
    "x_train_features = feature_extraction.fit_transform(x_train)\n",
    "x_test_features = feature_extraction.transform(x_test)\n",
    "\n",
    "y_train = y_train.astype('int')\n",
    "y_test = y_test.astype('int')"
   ]
  },
  {
   "cell_type": "code",
   "execution_count": 42,
   "id": "22322d1f",
   "metadata": {
    "scrolled": true
   },
   "outputs": [
    {
     "name": "stdout",
     "output_type": "stream",
     "text": [
      "  (0, 1968)\t0.20555770187976505\n",
      "  (0, 4621)\t0.2826608319517557\n",
      "  (0, 6670)\t0.23567651227529574\n",
      "  (0, 50)\t0.2826608319517557\n",
      "  (0, 4245)\t0.2826608319517557\n",
      "  (0, 262)\t0.25802160000805496\n",
      "  (0, 4815)\t0.16823978217870592\n",
      "  (0, 2777)\t0.2987551880042128\n",
      "  (0, 4819)\t0.2467015577941807\n",
      "  (0, 1524)\t0.2134897628788885\n",
      "  (0, 3760)\t0.21612407138649548\n",
      "  (0, 5307)\t0.25008953900893155\n",
      "  (0, 3849)\t0.20358236606353303\n",
      "  (0, 4623)\t0.22048220359216783\n",
      "  (0, 5024)\t0.22371596808895342\n",
      "  (0, 3086)\t0.2065881188886313\n",
      "  (0, 507)\t0.2826608319517557\n",
      "  (1, 6542)\t0.657492938833411\n",
      "  (1, 6025)\t0.657492938833411\n",
      "  (1, 2166)\t0.3679756388246497\n",
      "  (2, 6611)\t0.21801015986499822\n",
      "  (2, 6470)\t0.35233710750013614\n",
      "  (2, 5086)\t0.33581174761157134\n",
      "  (2, 98)\t0.35233710750013614\n",
      "  (2, 3177)\t0.22281059031897985\n",
      "  :\t:\n",
      "  (4176, 387)\t0.317680062733604\n",
      "  (4176, 3876)\t0.25677970808202527\n",
      "  (4176, 7131)\t0.23431439791927364\n",
      "  (4176, 6188)\t0.25152520362673875\n",
      "  (4176, 4414)\t0.28918871571362903\n",
      "  (4177, 6371)\t0.31506538554722807\n",
      "  (4177, 2701)\t0.30028814870851284\n",
      "  (4177, 5231)\t0.2816710320325676\n",
      "  (4177, 2043)\t0.24163194196309423\n",
      "  (4177, 4768)\t0.28980353231646977\n",
      "  (4177, 356)\t0.2694082507703203\n",
      "  (4177, 5617)\t0.23301671739847463\n",
      "  (4177, 3582)\t0.22605368056383238\n",
      "  (4177, 829)\t0.25293558496612645\n",
      "  (4177, 305)\t0.2087267924429882\n",
      "  (4177, 6450)\t0.1637801119447002\n",
      "  (4177, 5318)\t0.1728574048271797\n",
      "  (4177, 252)\t0.23114732557105117\n",
      "  (4177, 4312)\t0.18062361910953467\n",
      "  (4177, 4127)\t0.19050582260629478\n",
      "  (4177, 3620)\t0.13629190859338922\n",
      "  (4177, 5484)\t0.2816710320325676\n",
      "  (4177, 6318)\t0.16237278843513658\n",
      "  (4178, 5814)\t0.6949543291224118\n",
      "  (4178, 1640)\t0.7190538786725363\n"
     ]
    }
   ],
   "source": [
    " print(x_train_features)"
   ]
  },
  {
   "cell_type": "code",
   "execution_count": 43,
   "id": "eee50b21",
   "metadata": {},
   "outputs": [],
   "source": [
    "lr = LogisticRegression()"
   ]
  },
  {
   "cell_type": "code",
   "execution_count": 44,
   "id": "935627ec",
   "metadata": {},
   "outputs": [
    {
     "data": {
      "text/plain": [
       "LogisticRegression()"
      ]
     },
     "execution_count": 44,
     "metadata": {},
     "output_type": "execute_result"
    }
   ],
   "source": [
    "lr.fit(x_train_features, y_train)"
   ]
  },
  {
   "cell_type": "code",
   "execution_count": 45,
   "id": "b5661291",
   "metadata": {},
   "outputs": [],
   "source": [
    "prediction_training = lr.predict(x_train_features)\n",
    "accuracy_training = accuracy_score(y_train, prediction_training)"
   ]
  },
  {
   "cell_type": "code",
   "execution_count": 46,
   "id": "247412dc",
   "metadata": {},
   "outputs": [
    {
     "name": "stdout",
     "output_type": "stream",
     "text": [
      "Accuracy of the model on training data =  0.9662598707824839\n"
     ]
    }
   ],
   "source": [
    "print(\"Accuracy of the model on training data = \",accuracy_training)"
   ]
  },
  {
   "cell_type": "code",
   "execution_count": 47,
   "id": "ad8b3dda",
   "metadata": {},
   "outputs": [],
   "source": [
    "prediction_test = lr.predict(x_test_features)\n",
    "accuracy_test = accuracy_score(y_test, prediction_test)"
   ]
  },
  {
   "cell_type": "code",
   "execution_count": 48,
   "id": "bc58b43d",
   "metadata": {},
   "outputs": [
    {
     "name": "stdout",
     "output_type": "stream",
     "text": [
      "Accuracy of the model on test data =  0.968413496051687\n"
     ]
    }
   ],
   "source": [
    "print(\"Accuracy of the model on test data = \",accuracy_test)"
   ]
  },
  {
   "cell_type": "code",
   "execution_count": 52,
   "id": "0f3e14f8",
   "metadata": {},
   "outputs": [],
   "source": [
    "mail_check = [\" 07732584351 - Rodger Burns - MSG = We tried to call you re your reply to our sms for a free nokia mobile + free camcorder. Please call now 08000930705 for delivery tomorrow \"]\n",
    "mail_check_features = feature_extraction.transform(mail_check)\n",
    "\n",
    "predict_mail = lr.predict(mail_check_features)"
   ]
  },
  {
   "cell_type": "code",
   "execution_count": 53,
   "id": "bda232fe",
   "metadata": {},
   "outputs": [
    {
     "name": "stdout",
     "output_type": "stream",
     "text": [
      "Spam mail (True)\n"
     ]
    }
   ],
   "source": [
    "if (predict_mail[0] == 1):\n",
    "    print(\"Spam mail (True)\")\n",
    "else:\n",
    "    print(\"Ham Mail (False)\")"
   ]
  }
 ],
 "metadata": {
  "kernelspec": {
   "display_name": "Python 3 (ipykernel)",
   "language": "python",
   "name": "python3"
  },
  "language_info": {
   "codemirror_mode": {
    "name": "ipython",
    "version": 3
   },
   "file_extension": ".py",
   "mimetype": "text/x-python",
   "name": "python",
   "nbconvert_exporter": "python",
   "pygments_lexer": "ipython3",
   "version": "3.9.7"
  }
 },
 "nbformat": 4,
 "nbformat_minor": 5
}
